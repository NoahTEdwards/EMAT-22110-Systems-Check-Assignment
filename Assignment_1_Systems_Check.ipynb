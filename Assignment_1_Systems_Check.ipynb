{
 "cells": [
  {
   "cell_type": "markdown",
   "id": "artificial-exception",
   "metadata": {},
   "source": [
    "# Variable Assignment"
   ]
  },
  {
   "cell_type": "code",
   "execution_count": 1,
   "id": "abstract-snowboard",
   "metadata": {},
   "outputs": [],
   "source": [
    "x = range(15)"
   ]
  },
  {
   "cell_type": "markdown",
   "id": "muslim-laser",
   "metadata": {},
   "source": [
    "# Basic Loop"
   ]
  },
  {
   "cell_type": "code",
   "execution_count": 2,
   "id": "hourly-oliver",
   "metadata": {},
   "outputs": [],
   "source": [
    "y = []\n",
    "for i in x:\n",
    "    y.append(i+3)"
   ]
  },
  {
   "cell_type": "markdown",
   "id": "velvet-regression",
   "metadata": {},
   "source": [
    "# Print"
   ]
  },
  {
   "cell_type": "code",
   "execution_count": 3,
   "id": "sensitive-millennium",
   "metadata": {},
   "outputs": [
    {
     "name": "stdout",
     "output_type": "stream",
     "text": [
      "range(0, 15) [3, 4, 5, 6, 7, 8, 9, 10, 11, 12, 13, 14, 15, 16, 17]\n"
     ]
    }
   ],
   "source": [
    "print(x,y)"
   ]
  },
  {
   "cell_type": "markdown",
   "id": "distant-dressing",
   "metadata": {},
   "source": [
    "# Return Statement"
   ]
  },
  {
   "cell_type": "code",
   "execution_count": 4,
   "id": "korean-accordance",
   "metadata": {},
   "outputs": [
    {
     "data": {
      "text/plain": [
       "[0, 1, 2, 3, 4, 5, 6, 7, 8, 9, 10, 11, 12, 13, 14]"
      ]
     },
     "execution_count": 4,
     "metadata": {},
     "output_type": "execute_result"
    }
   ],
   "source": [
    "def subthree (x):\n",
    "    return x-3\n",
    "\n",
    "[subthree(i) for i in y]"
   ]
  },
  {
   "cell_type": "markdown",
   "id": "eleven-omega",
   "metadata": {},
   "source": [
    "# End "
   ]
  }
 ],
 "metadata": {
  "kernelspec": {
   "display_name": "Python 3",
   "language": "python",
   "name": "python3"
  },
  "language_info": {
   "codemirror_mode": {
    "name": "ipython",
    "version": 3
   },
   "file_extension": ".py",
   "mimetype": "text/x-python",
   "name": "python",
   "nbconvert_exporter": "python",
   "pygments_lexer": "ipython3",
   "version": "3.9.1"
  }
 },
 "nbformat": 4,
 "nbformat_minor": 5
}
